{
 "cells": [
  {
   "cell_type": "markdown",
   "id": "eb2a9659-d7e4-45fc-8a08-d1666b7a074f",
   "metadata": {},
   "source": [
    "ASSIGNMENT: 13"
   ]
  },
  {
   "cell_type": "markdown",
   "id": "531af05f-3b66-4a5c-92bb-e79c2aebd123",
   "metadata": {},
   "source": [
    "1. What is multithreading in python? Why is it used? Name the module used to handle threads in python"
   ]
  },
  {
   "cell_type": "markdown",
   "id": "67e948bd-52ab-4336-8bfa-2d3e39c05900",
   "metadata": {},
   "source": [
    "Multithreading in Python refers to the process of running multiple threads of execution concurrently within the same program. A thread is a lightweight sub-process, and multithreading allows a program to perform multiple tasks simultaneously, thereby improving the performance and responsiveness of the application.\n",
    "\n",
    "Multithreading is used in Python when a program needs to perform multiple tasks simultaneously without blocking the execution of other tasks. For example, a program that performs heavy computation tasks and also needs to update a user interface in real-time can use multithreading to ensure that both tasks are executed concurrently without affecting each other.\n",
    "\n",
    "Python provides a built-in threading module that allows developers to create and manage threads within their programs. The threading module provides a high-level interface for creating and controlling threads, allowing developers to easily spawn new threads, set thread priorities, and communicate between threads."
   ]
  },
  {
   "cell_type": "markdown",
   "id": "ebe65a68-e4a0-4c36-9b5a-344d4ae2a056",
   "metadata": {},
   "source": [
    "2. Why threading module used? Write the use of the following functions\n",
    "(A) activeCount()\n",
    "(B) currentThread()\n",
    "(C) enumerate()"
   ]
  },
  {
   "cell_type": "markdown",
   "id": "3f03bba0-7acf-4dbc-8472-d8949c9909d5",
   "metadata": {},
   "source": [
    "The threading module in Python is used for creating and managing threads in a program. It provides a high-level interface for working with threads and allows developers to write multi-threaded programs easily."
   ]
  },
  {
   "cell_type": "markdown",
   "id": "338c224c-b3ea-4c5a-a17c-fc845a2fc212",
   "metadata": {},
   "source": [
    "(A) activeCount(): This function returns the number of thread objects that are currently active and running in the current Python interpreter. This function is useful for debugging and monitoring purposes to get an idea of how many threads are currently running."
   ]
  },
  {
   "cell_type": "markdown",
   "id": "a3ce3a20-bbaa-4f89-98fb-30232547293a",
   "metadata": {},
   "source": [
    "(B) currentThread(): This function returns a reference to the current thread object that is executing the current piece of code. This function is useful for identifying the current thread, and you can use the returned thread object to get information about the current thread, such as its name or ID."
   ]
  },
  {
   "cell_type": "markdown",
   "id": "541a0c21-dc14-4b0a-a192-0cff132219da",
   "metadata": {},
   "source": [
    "(C) enumerate(): This function returns a list of all thread objects that are currently active and running in the current Python interpreter. It can also optionally take an argument that specifies whether it should return only daemon threads or all threads. This function is useful for debugging and monitoring purposes to get a list of all threads that are currently running in a program."
   ]
  },
  {
   "cell_type": "code",
   "execution_count": 1,
   "id": "5338266b-6e4c-4991-bbb5-b00951c5edb4",
   "metadata": {},
   "outputs": [
    {
     "name": "stderr",
     "output_type": "stream",
     "text": [
      "/tmp/ipykernel_77/534039584.py:5: DeprecationWarning: currentThread() is deprecated, use current_thread() instead\n",
      "  print(f\"{threading.currentThread().getName()} started\")\n",
      "/tmp/ipykernel_77/534039584.py:5: DeprecationWarning: getName() is deprecated, get the name attribute instead\n",
      "  print(f\"{threading.currentThread().getName()} started\")\n"
     ]
    },
    {
     "name": "stdout",
     "output_type": "stream",
     "text": [
      "Thread-5 (worker) started\n",
      "Thread-6 (worker) started\n",
      "Thread-7 (worker) started\n",
      "Thread-8 (worker) started\n",
      "Thread-9 (worker) started\n",
      "Thread-5 (worker) finished\n",
      "Thread-6 (worker) finished\n",
      "Thread-8 (worker) finished\n",
      "Thread-7 (worker) finished\n",
      "Thread-9 (worker) finished\n",
      "Number of active threads: 8\n",
      "Current thread name: MainThread\n",
      "Active threads:\n",
      "\tMainThread\n",
      "\tIOPub\n",
      "\tHeartbeat\n",
      "\tThread-3 (_watch_pipe_fd)\n",
      "\tThread-4 (_watch_pipe_fd)\n",
      "\tControl\n",
      "\tIPythonHistorySavingThread\n",
      "\tThread-2\n"
     ]
    },
    {
     "name": "stderr",
     "output_type": "stream",
     "text": [
      "/tmp/ipykernel_77/534039584.py:7: DeprecationWarning: currentThread() is deprecated, use current_thread() instead\n",
      "  print(f\"{threading.currentThread().getName()} finished\")\n",
      "/tmp/ipykernel_77/534039584.py:7: DeprecationWarning: getName() is deprecated, get the name attribute instead\n",
      "  print(f\"{threading.currentThread().getName()} finished\")\n",
      "/tmp/ipykernel_77/534039584.py:21: DeprecationWarning: activeCount() is deprecated, use active_count() instead\n",
      "  num_active_threads = threading.activeCount()\n",
      "/tmp/ipykernel_77/534039584.py:25: DeprecationWarning: currentThread() is deprecated, use current_thread() instead\n",
      "  current_thread = threading.currentThread()\n",
      "/tmp/ipykernel_77/534039584.py:26: DeprecationWarning: getName() is deprecated, get the name attribute instead\n",
      "  print(f\"Current thread name: {current_thread.getName()}\")\n",
      "/tmp/ipykernel_77/534039584.py:31: DeprecationWarning: getName() is deprecated, get the name attribute instead\n",
      "  print(f\"\\t{t.getName()}\")\n"
     ]
    }
   ],
   "source": [
    "import threading\n",
    "import time\n",
    "\n",
    "def worker():\n",
    "    print(f\"{threading.currentThread().getName()} started\")\n",
    "    time.sleep(1)\n",
    "    print(f\"{threading.currentThread().getName()} finished\")\n",
    "\n",
    "# create some threads\n",
    "threads = []\n",
    "for i in range(5):\n",
    "    t = threading.Thread(target=worker)\n",
    "    t.start()\n",
    "    threads.append(t)\n",
    "\n",
    "# wait for all threads to finish\n",
    "for t in threads:\n",
    "    t.join()\n",
    "\n",
    "# get the number of active threads\n",
    "num_active_threads = threading.activeCount()\n",
    "print(f\"Number of active threads: {num_active_threads}\")\n",
    "\n",
    "# get the current thread and print its name\n",
    "current_thread = threading.currentThread()\n",
    "print(f\"Current thread name: {current_thread.getName()}\")\n",
    "\n",
    "# enumerate all active threads and print their names\n",
    "print(\"Active threads:\")\n",
    "for t in threading.enumerate():\n",
    "    print(f\"\\t{t.getName()}\")\n"
   ]
  },
  {
   "cell_type": "markdown",
   "id": "7a568280-4252-4efd-b71d-5bd5a537806f",
   "metadata": {},
   "source": [
    "3. Explain the following functions\n",
    "1. run()\n",
    "2. star()\n",
    "3. join()\n",
    "4. isAlive()"
   ]
  },
  {
   "cell_type": "markdown",
   "id": "971d43c7-34d8-41ad-9c16-31fe04a29247",
   "metadata": {},
   "source": [
    "run() is a method defined in the Thread class in Python's threading module. It is called when a new thread is started and contains the code that will be executed in that thread. This method must be overridden in any class that inherits from Thread and needs to perform some specific task."
   ]
  },
  {
   "cell_type": "markdown",
   "id": "0b7a3040-ce28-407b-9b37-50d96c123757",
   "metadata": {},
   "source": [
    "start() is also a method defined in the Thread class, and it is used to start a new thread by calling the run() method in a separate thread of execution. This method creates a new thread and calls the run() method in that thread."
   ]
  },
  {
   "cell_type": "markdown",
   "id": "eaf8fe1b-1e96-4349-aa1a-4718cf6e336d",
   "metadata": {},
   "source": [
    "join() is a method that can be called on a thread object to wait for the thread to complete before continuing with the main thread of execution. When join() is called, the calling thread is blocked until the target thread completes its execution."
   ]
  },
  {
   "cell_type": "markdown",
   "id": "d8ebbd93-7baf-4cf8-bb01-27bf91c359fb",
   "metadata": {},
   "source": [
    "isAlive() is a method defined in the Thread class that returns a boolean value indicating whether or not the thread is still running. If the thread has been started and has not yet completed its execution, isAlive() will return True. Otherwise, it will return False."
   ]
  },
  {
   "cell_type": "code",
   "execution_count": 3,
   "id": "bc2a5120-b755-4437-ac9e-b712345b4432",
   "metadata": {},
   "outputs": [
    {
     "name": "stdout",
     "output_type": "stream",
     "text": [
      "Thread 1 is starting\n"
     ]
    },
    {
     "ename": "AttributeError",
     "evalue": "'MyThread' object has no attribute 'isAlive'",
     "output_type": "error",
     "traceback": [
      "\u001b[0;31m---------------------------------------------------------------------------\u001b[0m",
      "\u001b[0;31mAttributeError\u001b[0m                            Traceback (most recent call last)",
      "Cell \u001b[0;32mIn[3], line 24\u001b[0m\n\u001b[1;32m     21\u001b[0m thread1\u001b[38;5;241m.\u001b[39mstart()\n\u001b[1;32m     23\u001b[0m \u001b[38;5;66;03m# Call the isAlive() method to check if the thread is still running\u001b[39;00m\n\u001b[0;32m---> 24\u001b[0m \u001b[38;5;28mprint\u001b[39m(\u001b[38;5;124mf\u001b[39m\u001b[38;5;124m\"\u001b[39m\u001b[38;5;124mIs \u001b[39m\u001b[38;5;132;01m{\u001b[39;00mthread1\u001b[38;5;241m.\u001b[39mname\u001b[38;5;132;01m}\u001b[39;00m\u001b[38;5;124m running? \u001b[39m\u001b[38;5;132;01m{\u001b[39;00m\u001b[43mthread1\u001b[49m\u001b[38;5;241;43m.\u001b[39;49m\u001b[43misAlive\u001b[49m()\u001b[38;5;132;01m}\u001b[39;00m\u001b[38;5;124m\"\u001b[39m)\n\u001b[1;32m     26\u001b[0m \u001b[38;5;66;03m# Wait for the thread to complete by calling the join() method\u001b[39;00m\n\u001b[1;32m     27\u001b[0m thread1\u001b[38;5;241m.\u001b[39mjoin()\n",
      "\u001b[0;31mAttributeError\u001b[0m: 'MyThread' object has no attribute 'isAlive'"
     ]
    },
    {
     "name": "stdout",
     "output_type": "stream",
     "text": [
      "Thread 1 is ending\n"
     ]
    }
   ],
   "source": [
    "import threading\n",
    "import time\n",
    "\n",
    "# Define a class that inherits from Thread\n",
    "class MyThread(threading.Thread):\n",
    "    \n",
    "    def __init__(self, name):\n",
    "        threading.Thread.__init__(self)\n",
    "        self.name = name\n",
    "    \n",
    "    # Override the run() method\n",
    "    def run(self):\n",
    "        print(f\"{self.name} is starting\")\n",
    "        time.sleep(2)\n",
    "        print(f\"{self.name} is ending\")\n",
    "\n",
    "# Create a new instance of the MyThread class\n",
    "thread1 = MyThread(\"Thread 1\")\n",
    "\n",
    "# Start the thread by calling the start() method\n",
    "thread1.start()\n",
    "\n",
    "# Call the isAlive() method to check if the thread is still running\n",
    "print(f\"Is {thread1.name} running? {thread1.isAlive()}\")\n",
    "\n",
    "# Wait for the thread to complete by calling the join() method\n",
    "thread1.join()\n",
    "\n",
    "# Call the isAlive() method again to confirm that the thread has completed\n",
    "print(f\"Is {thread1.name} running? {thread1.isAlive()}\")\n"
   ]
  },
  {
   "cell_type": "markdown",
   "id": "1bcb0c4b-bc11-41d5-ba3f-64ffb0fca295",
   "metadata": {},
   "source": [
    "4. Write a python program to create two threads. Thread one must print the list of squares and thread \n",
    "two must print the list of cubes"
   ]
  },
  {
   "cell_type": "code",
   "execution_count": 5,
   "id": "c613e3be-7dba-4c79-9210-47b0a68ed5a1",
   "metadata": {},
   "outputs": [
    {
     "name": "stdout",
     "output_type": "stream",
     "text": [
      "1 squared is 1\n",
      "2 squared is 4\n",
      "3 squared is 9\n",
      "4 squared is 16\n",
      "5 squared is 25\n",
      "6 squared is 36\n",
      "7 squared is 49\n",
      "8 squared is 64\n",
      "9 squared is 81\n",
      "10 squared is 100\n",
      "1 cubed is 1\n",
      "2 cubed is 8\n",
      "3 cubed is 27\n",
      "4 cubed is 64\n",
      "5 cubed is 125\n",
      "6 cubed is 216\n",
      "7 cubed is 343\n",
      "8 cubed is 512\n",
      "9 cubed is 729\n",
      "10 cubed is 1000\n",
      "Done!\n"
     ]
    }
   ],
   "source": [
    "import threading\n",
    "\n",
    "def print_squares():\n",
    "    for i in range(1, 11):\n",
    "        print(f\"{i} squared is {i**2}\")\n",
    "\n",
    "def print_cubes():\n",
    "    for i in range(1, 11):\n",
    "        print(f\"{i} cubed is {i**3}\")\n",
    "\n",
    "t1 = threading.Thread(target=print_squares)\n",
    "t2 = threading.Thread(target=print_cubes)\n",
    "\n",
    "t1.start()\n",
    "t2.start()\n",
    "\n",
    "t1.join()\n",
    "t2.join()\n",
    "\n",
    "print(\"Done!\")\n"
   ]
  },
  {
   "cell_type": "markdown",
   "id": "3278fa43-c753-47a0-9783-fd25c3477653",
   "metadata": {},
   "source": [
    "5. State advantages and disadvantages of multithreading"
   ]
  },
  {
   "cell_type": "markdown",
   "id": "43208fa4-bc1b-42b7-866b-e889b0805b35",
   "metadata": {},
   "source": [
    "Multithreading has both advantages and disadvantages. Here are some of the main ones:\n",
    "\n",
    "Advantages of Multithreading:\n",
    "\n",
    "Improved performance: By dividing a task into multiple threads, a program can take advantage of multiple CPUs or CPU cores, and perform the task faster than if it were done in a single thread.\n",
    "\n",
    "Enhanced responsiveness: Multithreading allows a program to remain responsive to user input while performing long-running tasks in the background.\n",
    "\n",
    "Resource sharing: Threads can share resources such as memory and files more efficiently than separate processes, reducing the overall resource usage of a program.\n",
    "\n",
    "Parallelism: Multithreading can be used to perform multiple tasks simultaneously, allowing a program to achieve greater parallelism and throughput.\n",
    "\n",
    "Disadvantages of Multithreading:\n",
    "\n",
    "Complexity: Multithreading adds complexity to a program, making it more difficult to design, implement, and debug.\n",
    "\n",
    "Synchronization: When multiple threads access shared resources, synchronization issues such as race conditions and deadlocks can arise, requiring careful coordination between threads.\n",
    "\n",
    "Overhead: The creation and management of threads adds overhead to a program, which can reduce performance if not managed properly.\n",
    "\n",
    "Debugging: Debugging multithreaded programs can be difficult, as the timing and order of thread execution can be unpredictable."
   ]
  },
  {
   "cell_type": "markdown",
   "id": "4f865204-1873-4bc2-b005-98f2cc18fc84",
   "metadata": {},
   "source": [
    "6.  Explain deadlocks and race conditions"
   ]
  },
  {
   "cell_type": "markdown",
   "id": "48fb6273-7ff8-4d04-9799-6dd82530306d",
   "metadata": {},
   "source": [
    "Deadlocks and race conditions are two common synchronization problems that can occur in concurrent programs.\n",
    "\n",
    "Deadlock:\n",
    "A deadlock occurs when two or more threads are blocked, waiting for each other to release resources that they need to proceed. In a deadlock, none of the threads can make progress, and the program is effectively stuck.\n",
    "\n",
    "For example, suppose two threads each acquire a lock on a different resource and then try to acquire a lock on the other resource. If both threads hold onto their current locks and wait for the other lock to be released, a deadlock occurs.\n",
    "\n",
    "Deadlocks can be difficult to detect and prevent, and often require careful design and management of shared resources to avoid.\n",
    "\n",
    "Race condition:\n",
    "A race condition occurs when the behavior of a program depends on the relative timing or order of two or more threads, and this behavior is unpredictable or incorrect.\n",
    "\n",
    "For example, suppose two threads each access a shared variable, and one thread modifies the variable while the other thread reads it. If the order of access is not controlled or synchronized, the result may be unpredictable, and the program may produce incorrect output.\n",
    "\n",
    "Race conditions can also lead to data corruption, memory leaks, or other undefined behavior, and can be difficult to detect and debug.\n",
    "\n",
    "To prevent race conditions, programs must use synchronization mechanisms such as locks, semaphores, or atomic operations to ensure that multiple threads cannot access shared resources simultaneously. Proper use of synchronization can prevent race conditions and ensure the correct behavior of concurrent programs."
   ]
  },
  {
   "cell_type": "code",
   "execution_count": null,
   "id": "b597bb93-6533-4b33-986f-b7565ba9d582",
   "metadata": {},
   "outputs": [],
   "source": []
  }
 ],
 "metadata": {
  "kernelspec": {
   "display_name": "Python 3 (ipykernel)",
   "language": "python",
   "name": "python3"
  },
  "language_info": {
   "codemirror_mode": {
    "name": "ipython",
    "version": 3
   },
   "file_extension": ".py",
   "mimetype": "text/x-python",
   "name": "python",
   "nbconvert_exporter": "python",
   "pygments_lexer": "ipython3",
   "version": "3.10.8"
  }
 },
 "nbformat": 4,
 "nbformat_minor": 5
}
